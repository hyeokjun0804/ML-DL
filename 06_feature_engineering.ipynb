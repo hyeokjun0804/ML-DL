{
  "nbformat": 4,
  "nbformat_minor": 0,
  "metadata": {
    "colab": {
      "provenance": [],
      "authorship_tag": "ABX9TyOhlIaIZxq8V5ccRb9PA9fc",
      "include_colab_link": true
    },
    "kernelspec": {
      "name": "python3",
      "display_name": "Python 3"
    },
    "language_info": {
      "name": "python"
    }
  },
  "cells": [
    {
      "cell_type": "markdown",
      "metadata": {
        "id": "view-in-github",
        "colab_type": "text"
      },
      "source": [
        "<a href=\"https://colab.research.google.com/github/hyeokjun0804/ML-DL/blob/main/06_feature_engineering.ipynb\" target=\"_parent\"><img src=\"https://colab.research.google.com/assets/colab-badge.svg\" alt=\"Open In Colab\"/></a>"
      ]
    },
    {
      "cell_type": "markdown",
      "source": [
        "#특성 공학과 규제\n",
        "###IT융합자율학부 201814076 권혁준"
      ],
      "metadata": {
        "id": "Y357I8xf1fMi"
      }
    },
    {
      "cell_type": "markdown",
      "source": [
        "##Pandas 판다스\n",
        "######데이터 분석에 널리 쓰이는 파이썬 라이브러리\n",
        "######데이터프레임(DataFrame)이라는 자료 구조를 사용\n",
        "###### 엑셀의 시트와 같은 테이블(표) 형태의 데이터를 저장\n",
        "######넘파이 배열 객체로 쉽게 변환할 수 있음"
      ],
      "metadata": {
        "id": "JtY9u7r_0IYO"
      }
    },
    {
      "cell_type": "code",
      "source": [
        "import pandas as pd #pd는 관례적으로 사용하는 판다스의 별칭\n",
        "df = pd.read_csv('https://bit.ly/perch_csv_data')\n",
        "perch_full = df.to_numpy()\n",
        "print(perch_full)"
      ],
      "metadata": {
        "colab": {
          "base_uri": "https://localhost:8080/"
        },
        "id": "0mR3QHznu_G9",
        "outputId": "72cac75e-09af-4c62-cf12-d8eab739accf"
      },
      "execution_count": null,
      "outputs": [
        {
          "output_type": "stream",
          "name": "stdout",
          "text": [
            "[[ 8.4   2.11  1.41]\n",
            " [13.7   3.53  2.  ]\n",
            " [15.    3.82  2.43]\n",
            " [16.2   4.59  2.63]\n",
            " [17.4   4.59  2.94]\n",
            " [18.    5.22  3.32]\n",
            " [18.7   5.2   3.12]\n",
            " [19.    5.64  3.05]\n",
            " [19.6   5.14  3.04]\n",
            " [20.    5.08  2.77]\n",
            " [21.    5.69  3.56]\n",
            " [21.    5.92  3.31]\n",
            " [21.    5.69  3.67]\n",
            " [21.3   6.38  3.53]\n",
            " [22.    6.11  3.41]\n",
            " [22.    5.64  3.52]\n",
            " [22.    6.11  3.52]\n",
            " [22.    5.88  3.52]\n",
            " [22.    5.52  4.  ]\n",
            " [22.5   5.86  3.62]\n",
            " [22.5   6.79  3.62]\n",
            " [22.7   5.95  3.63]\n",
            " [23.    5.22  3.63]\n",
            " [23.5   6.28  3.72]\n",
            " [24.    7.29  3.72]\n",
            " [24.    6.38  3.82]\n",
            " [24.6   6.73  4.17]\n",
            " [25.    6.44  3.68]\n",
            " [25.6   6.56  4.24]\n",
            " [26.5   7.17  4.14]\n",
            " [27.3   8.32  5.14]\n",
            " [27.5   7.17  4.34]\n",
            " [27.5   7.05  4.34]\n",
            " [27.5   7.28  4.57]\n",
            " [28.    7.82  4.2 ]\n",
            " [28.7   7.59  4.64]\n",
            " [30.    7.62  4.77]\n",
            " [32.8  10.03  6.02]\n",
            " [34.5  10.26  6.39]\n",
            " [35.   11.49  7.8 ]\n",
            " [36.5  10.88  6.86]\n",
            " [36.   10.61  6.74]\n",
            " [37.   10.84  6.26]\n",
            " [37.   10.57  6.37]\n",
            " [39.   11.14  7.49]\n",
            " [39.   11.14  6.  ]\n",
            " [39.   12.43  7.35]\n",
            " [40.   11.93  7.11]\n",
            " [40.   11.73  7.22]\n",
            " [40.   12.38  7.46]\n",
            " [40.   11.14  6.63]\n",
            " [42.   12.8   6.87]\n",
            " [43.   11.93  7.28]\n",
            " [43.   12.51  7.42]\n",
            " [43.5  12.6   8.14]\n",
            " [44.   12.49  7.6 ]]\n"
          ]
        }
      ]
    },
    {
      "cell_type": "code",
      "execution_count": null,
      "metadata": {
        "id": "VErz9mKxuwCb"
      },
      "outputs": [],
      "source": [
        "import numpy as np\n",
        "perch_weight = np.array([5.9, 32.0, 40.0, 51.5, 70.0, 100.0, 78.0, 80.0, 85.0, 85.0, 110.0,\n",
        "       115.0, 125.0, 130.0, 120.0, 120.0, 130.0, 135.0, 110.0, 130.0,\n",
        "       150.0, 145.0, 150.0, 170.0, 225.0, 145.0, 188.0, 180.0, 197.0,\n",
        "       218.0, 300.0, 260.0, 265.0, 250.0, 250.0, 300.0, 320.0, 514.0,\n",
        "       556.0, 840.0, 685.0, 700.0, 700.0, 690.0, 900.0, 650.0, 820.0,\n",
        "       850.0, 900.0, 1015.0, 820.0, 1100.0, 1000.0, 1100.0, 1000.0,\n",
        "       1000.0])"
      ]
    },
    {
      "cell_type": "code",
      "source": [
        "from sklearn.model_selection import train_test_split\n",
        "\n",
        "#훈련 세트와 테스트 세트로 나눕니다\n",
        "train_input, test_input, train_target, test_target = train_test_split(perch_full, perch_weight, random_state=42)"
      ],
      "metadata": {
        "id": "u4QBO5wTvW4h"
      },
      "execution_count": null,
      "outputs": []
    },
    {
      "cell_type": "markdown",
      "source": [
        "##변환기 transform\n",
        "######특성을 만들거나 전처리하기 위해 사이킷런이 제공하는 다양한 클래스\n",
        "######사이킷런 변환기 객체\n",
        "######fit() 메서드\n",
        "######transform() 메서드\n",
        "######사이킷런 예측기\n",
        "######LinearRegression, KNeighborsClassifier, KNeighborsRegressor 클래스 등\n",
        "######for(), predict(), score() 메서드 등을 제공"
      ],
      "metadata": {
        "id": "PD15GFON134O"
      }
    },
    {
      "cell_type": "markdown",
      "source": [
        "PolynomialFeatures\n",
        "######sklearn.preprocessing 모듈에 포함\n",
        "######기본 값으로 각 특성을 제곱한 항을 추가하고, 특성끼리 서로 곱한 항을 추가함"
      ],
      "metadata": {
        "id": "FHBrMbgo2MdF"
      }
    },
    {
      "cell_type": "code",
      "source": [
        "from sklearn.preprocessing import PolynomialFeatures\n",
        "\n",
        "poly = PolynomialFeatures()\n",
        "poly.fit([[2, 3]])\n",
        "print(poly.transform([[2, 3]]))"
      ],
      "metadata": {
        "colab": {
          "base_uri": "https://localhost:8080/"
        },
        "id": "_3NP5YOWv2eq",
        "outputId": "593319ed-a038-49ed-899e-96248d51355f"
      },
      "execution_count": null,
      "outputs": [
        {
          "output_type": "stream",
          "name": "stdout",
          "text": [
            "[[1. 2. 3. 4. 6. 9.]]\n"
          ]
        }
      ]
    },
    {
      "cell_type": "code",
      "source": [
        "print(poly.transform([[2, 3], [5, 6]]))"
      ],
      "metadata": {
        "colab": {
          "base_uri": "https://localhost:8080/"
        },
        "id": "lRdOk32b2ztm",
        "outputId": "52a9a866-7ba4-4e0e-c401-52a3283773e7"
      },
      "execution_count": null,
      "outputs": [
        {
          "output_type": "stream",
          "name": "stdout",
          "text": [
            "[[ 1.  2.  3.  4.  6.  9.]\n",
            " [ 1.  5.  6. 25. 30. 36.]]\n"
          ]
        }
      ]
    },
    {
      "cell_type": "code",
      "source": [
        "poly = PolynomialFeatures(include_bias = False) #False 사용시 절편 항 제거\n",
        "poly.fit([[2, 3]])\n",
        "print(poly.transform([[2, 3]]))"
      ],
      "metadata": {
        "colab": {
          "base_uri": "https://localhost:8080/"
        },
        "id": "oSrU_osFwATv",
        "outputId": "e3894f0e-cf20-4307-e994-a0cec5b44600"
      },
      "execution_count": null,
      "outputs": [
        {
          "output_type": "stream",
          "name": "stdout",
          "text": [
            "[[2. 3. 4. 6. 9.]]\n"
          ]
        }
      ]
    },
    {
      "cell_type": "code",
      "source": [
        "print(poly.transform([[2, 3], [5, 6]]))"
      ],
      "metadata": {
        "colab": {
          "base_uri": "https://localhost:8080/"
        },
        "id": "TbXQsjTE3wDb",
        "outputId": "927e99c6-e3ec-4f8f-f5cd-571cd96f3516"
      },
      "execution_count": null,
      "outputs": [
        {
          "output_type": "stream",
          "name": "stdout",
          "text": [
            "[[ 2.  3.  4.  6.  9.]\n",
            " [ 5.  6. 25. 30. 36.]]\n"
          ]
        }
      ]
    },
    {
      "cell_type": "code",
      "source": [
        "poly = PolynomialFeatures(include_bias=False)\n",
        "poly.fit(train_input)\n",
        "train_poly = poly.transform(train_input)\n",
        "print(train_poly.shape)"
      ],
      "metadata": {
        "colab": {
          "base_uri": "https://localhost:8080/"
        },
        "id": "Tce4jl_AwHOF",
        "outputId": "f8cd2061-a796-4b8a-f558-cfd81fd906b4"
      },
      "execution_count": null,
      "outputs": [
        {
          "output_type": "stream",
          "name": "stdout",
          "text": [
            "(42, 9)\n"
          ]
        }
      ]
    },
    {
      "cell_type": "code",
      "source": [
        "poly.get_feature_names_out()"
      ],
      "metadata": {
        "colab": {
          "base_uri": "https://localhost:8080/"
        },
        "id": "7ZWnVDujwT66",
        "outputId": "ed326bc8-de26-4b63-df73-38c5aebeeba0"
      },
      "execution_count": null,
      "outputs": [
        {
          "output_type": "execute_result",
          "data": {
            "text/plain": [
              "array(['x0', 'x1', 'x2', 'x0^2', 'x0 x1', 'x0 x2', 'x1^2', 'x1 x2',\n",
              "       'x2^2'], dtype=object)"
            ]
          },
          "metadata": {},
          "execution_count": 51
        }
      ]
    },
    {
      "cell_type": "code",
      "source": [
        "test_poly = poly.transform(test_input)\n",
        "test_poly.shape"
      ],
      "metadata": {
        "colab": {
          "base_uri": "https://localhost:8080/"
        },
        "id": "vTJ-nhJSwewH",
        "outputId": "70c39266-69e2-4a8e-bbe6-1fbe6d83ca63"
      },
      "execution_count": null,
      "outputs": [
        {
          "output_type": "execute_result",
          "data": {
            "text/plain": [
              "(14, 9)"
            ]
          },
          "metadata": {},
          "execution_count": 52
        }
      ]
    },
    {
      "cell_type": "markdown",
      "source": [
        "##다중 회귀 모델"
      ],
      "metadata": {
        "id": "UFNVXsc2wlLC"
      }
    },
    {
      "cell_type": "code",
      "source": [
        "from sklearn.linear_model import LinearRegression\n",
        "\n",
        "lr = LinearRegression()\n",
        "lr.fit(train_poly, train_target)\n",
        "print(lr.score(train_poly, train_target))"
      ],
      "metadata": {
        "colab": {
          "base_uri": "https://localhost:8080/"
        },
        "id": "ndzZuCZywj1y",
        "outputId": "47c7c4c4-8659-4cab-9aec-90e5a5f12726"
      },
      "execution_count": null,
      "outputs": [
        {
          "output_type": "stream",
          "name": "stdout",
          "text": [
            "0.9903183436982125\n"
          ]
        }
      ]
    },
    {
      "cell_type": "code",
      "source": [
        "print(lr.score(test_poly, test_target))"
      ],
      "metadata": {
        "colab": {
          "base_uri": "https://localhost:8080/"
        },
        "id": "rAoykST1w2iy",
        "outputId": "a96feb5b-1533-4fdd-d337-ad74299e80cd"
      },
      "execution_count": null,
      "outputs": [
        {
          "output_type": "stream",
          "name": "stdout",
          "text": [
            "0.9714559911594111\n"
          ]
        }
      ]
    },
    {
      "cell_type": "code",
      "source": [
        "poly = PolynomialFeatures(degree=5, include_bias=False) #degree는 고차항의 최대 차수를 지정할 수 있음\n",
        "poly.fit(train_input)\n",
        "train_poly = poly.transform(train_input)\n",
        "test_poly = poly.transform(test_input)\n",
        "print(train_poly.shape)"
      ],
      "metadata": {
        "colab": {
          "base_uri": "https://localhost:8080/"
        },
        "id": "hDD8d3mUxCLN",
        "outputId": "18608e40-f62e-4a58-9b7b-88d4dd0ea44b"
      },
      "execution_count": null,
      "outputs": [
        {
          "output_type": "stream",
          "name": "stdout",
          "text": [
            "(42, 55)\n"
          ]
        }
      ]
    },
    {
      "cell_type": "code",
      "source": [
        "lr.fit(train_poly, train_target)\n",
        "print(lr.score(train_poly, train_target))"
      ],
      "metadata": {
        "colab": {
          "base_uri": "https://localhost:8080/"
        },
        "id": "EGLYNBGZxSm9",
        "outputId": "d1e2dce9-5c23-4fa3-cdb8-a90ca5ddfaf2"
      },
      "execution_count": null,
      "outputs": [
        {
          "output_type": "stream",
          "name": "stdout",
          "text": [
            "0.9999999999996433\n"
          ]
        }
      ]
    },
    {
      "cell_type": "code",
      "source": [
        "poly.get_feature_names_out()"
      ],
      "metadata": {
        "colab": {
          "base_uri": "https://localhost:8080/"
        },
        "id": "ESNyTm_z5sOe",
        "outputId": "9d29fa94-6976-4b8d-ebcd-83945b008c5f"
      },
      "execution_count": null,
      "outputs": [
        {
          "output_type": "execute_result",
          "data": {
            "text/plain": [
              "array(['x0', 'x1', 'x2', 'x0^2', 'x0 x1', 'x0 x2', 'x1^2', 'x1 x2',\n",
              "       'x2^2', 'x0^3', 'x0^2 x1', 'x0^2 x2', 'x0 x1^2', 'x0 x1 x2',\n",
              "       'x0 x2^2', 'x1^3', 'x1^2 x2', 'x1 x2^2', 'x2^3', 'x0^4', 'x0^3 x1',\n",
              "       'x0^3 x2', 'x0^2 x1^2', 'x0^2 x1 x2', 'x0^2 x2^2', 'x0 x1^3',\n",
              "       'x0 x1^2 x2', 'x0 x1 x2^2', 'x0 x2^3', 'x1^4', 'x1^3 x2',\n",
              "       'x1^2 x2^2', 'x1 x2^3', 'x2^4', 'x0^5', 'x0^4 x1', 'x0^4 x2',\n",
              "       'x0^3 x1^2', 'x0^3 x1 x2', 'x0^3 x2^2', 'x0^2 x1^3',\n",
              "       'x0^2 x1^2 x2', 'x0^2 x1 x2^2', 'x0^2 x2^3', 'x0 x1^4',\n",
              "       'x0 x1^3 x2', 'x0 x1^2 x2^2', 'x0 x1 x2^3', 'x0 x2^4', 'x1^5',\n",
              "       'x1^4 x2', 'x1^3 x2^2', 'x1^2 x2^3', 'x1 x2^4', 'x2^5'],\n",
              "      dtype=object)"
            ]
          },
          "metadata": {},
          "execution_count": 57
        }
      ]
    },
    {
      "cell_type": "code",
      "source": [
        "print(lr.score(test_poly, test_target))"
      ],
      "metadata": {
        "colab": {
          "base_uri": "https://localhost:8080/"
        },
        "id": "FZCHja7mxbKf",
        "outputId": "83bcbd6b-9504-4ad1-b493-ebc6331d0f14"
      },
      "execution_count": null,
      "outputs": [
        {
          "output_type": "stream",
          "name": "stdout",
          "text": [
            "-144.40579436844948\n"
          ]
        }
      ]
    },
    {
      "cell_type": "markdown",
      "source": [
        "##규제 regularization\n",
        "######머신러닝 알고리즘이 훈련 세트를 과도하게 학습하지 못 하도록 훼방을 놓는 것\n",
        "###### - 모델이 훈련 세트에 과대적합되지 않도록 만드는 것\n",
        "######선형 회귀 모델에서는 특성에 곱해지는 계수(가중치, 기울기)의 크기를 작게 만드는일\n",
        "######특성의 스케일을 표준화해야 규제를 적용할 떄 공정하게 제어할 수 있음\n",
        "######규제가 있는 회귀 알고리즘\n",
        "- 릿지 회귀 모델\n",
        "- 라쏘 회귀 모델"
      ],
      "metadata": {
        "id": "qxW8fTzLxgSv"
      }
    },
    {
      "cell_type": "code",
      "source": [
        "lr.coef_"
      ],
      "metadata": {
        "colab": {
          "base_uri": "https://localhost:8080/"
        },
        "id": "wjCi9kGP7HaJ",
        "outputId": "ddbd774f-b45f-44e0-8111-2435a1a289bd"
      },
      "execution_count": null,
      "outputs": [
        {
          "output_type": "execute_result",
          "data": {
            "text/plain": [
              "array([-2.09046286e+04, -1.28182176e+03, -5.60568587e+03,  2.08210606e+03,\n",
              "        1.22297051e+03, -1.43811540e+03, -4.56962070e+03, -5.32891399e+02,\n",
              "        6.00788378e+03, -2.10700052e+01, -6.86630545e+01, -1.38720413e+03,\n",
              "       -1.07566030e+03,  3.95364102e+03,  5.36644564e+03,  3.82395517e+03,\n",
              "       -5.41578595e+03, -7.44650725e+03, -3.57626691e+03, -8.28151607e+00,\n",
              "        3.60946181e+02, -4.02975688e+02, -3.16263595e+03,  3.78221470e+03,\n",
              "        1.35360877e+03,  9.49694721e+03, -9.03127653e+03, -7.05277640e+03,\n",
              "       -5.77034174e+03, -9.30116998e+03,  5.09465751e+03,  9.77745663e+03,\n",
              "        9.37625135e+03,  7.91894743e+03, -2.17004839e+00,  3.18815197e+01,\n",
              "        1.05750599e+01,  1.25145412e+02, -1.16343732e+03,  8.34274225e+02,\n",
              "       -1.83477034e+03,  7.09702960e+03, -1.74946596e+03, -3.82035083e+03,\n",
              "        5.50888378e+03, -1.57853612e+04, -1.46750807e+03,  8.08789552e+03,\n",
              "        8.01725139e+03, -5.22510168e+03,  1.18582793e+04,  6.17623466e+03,\n",
              "       -7.04139964e+03, -6.28440329e+03, -7.60671211e+03])"
            ]
          },
          "metadata": {},
          "execution_count": 59
        }
      ]
    },
    {
      "cell_type": "code",
      "source": [
        "from sklearn.preprocessing import StandardScaler\n",
        "ss = StandardScaler()\n",
        "ss.fit(train_poly)\n",
        "train_scaled = ss.transform(train_poly)\n",
        "test_scaled = ss.transform(test_poly)"
      ],
      "metadata": {
        "id": "gCVzSo7PxeQg"
      },
      "execution_count": null,
      "outputs": []
    },
    {
      "cell_type": "code",
      "source": [
        "train_scaled[:5]"
      ],
      "metadata": {
        "colab": {
          "base_uri": "https://localhost:8080/"
        },
        "id": "YNK1Oxim7nRe",
        "outputId": "9d1dcc64-1efe-49de-9f96-2d715f3ac449"
      },
      "execution_count": null,
      "outputs": [
        {
          "output_type": "execute_result",
          "data": {
            "text/plain": [
              "array([[-1.01339619, -1.01007487, -1.01952321, -0.9549757 , -0.9496784 ,\n",
              "        -0.95745849, -0.93942079, -0.94342509, -0.94100107, -0.88757122,\n",
              "        -0.88399964, -0.89100599, -0.87785292, -0.88311456, -0.88430909,\n",
              "        -0.8691891 , -0.87259422, -0.87147928, -0.86603533, -0.82233944,\n",
              "        -0.82171953, -0.8280588 , -0.81928269, -0.82512549, -0.8278857 ,\n",
              "        -0.81486775, -0.82006923, -0.82177279, -0.82010716, -0.80835934,\n",
              "        -0.81274154, -0.81321125, -0.8098514 , -0.80275974, -0.7637909 ,\n",
              "        -0.76597773, -0.77150714, -0.76668667, -0.77246614, -0.77577893,\n",
              "        -0.76571689, -0.77162398, -0.77472752, -0.77517751, -0.76290623,\n",
              "        -0.76877311, -0.77148634, -0.77113383, -0.767785  , -0.75814062,\n",
              "        -0.76376113, -0.76586966, -0.76449499, -0.75967179, -0.75143746],\n",
              "       [-0.73842893, -0.75254307, -0.74466913, -0.76472563, -0.7717585 ,\n",
              "        -0.77238267, -0.7747325 , -0.77298293, -0.76716811, -0.76291014,\n",
              "        -0.76770896, -0.77117372, -0.7701438 , -0.77242144, -0.77168016,\n",
              "        -0.7701077 , -0.7710676 , -0.76852551, -0.76268353, -0.74414953,\n",
              "        -0.74888304, -0.75336339, -0.75182759, -0.75602974, -0.75767358,\n",
              "        -0.75276277, -0.75654505, -0.75734709, -0.75530344, -0.75151822,\n",
              "        -0.75470284, -0.7544831 , -0.75094965, -0.74419754, -0.71646953,\n",
              "        -0.72192479, -0.72646818, -0.72588462, -0.73075731, -0.73343457,\n",
              "        -0.72812394, -0.73321011, -0.73576127, -0.73592752, -0.72845668,\n",
              "        -0.73359433, -0.73584309, -0.73529384, -0.73201564, -0.72674557,\n",
              "        -0.73173294, -0.73346797, -0.73198449, -0.72731765, -0.71950111],\n",
              "       [-1.11650891, -0.98919391, -0.97371419, -1.02065999, -0.9714645 ,\n",
              "        -0.97031097, -0.92689165, -0.92331614, -0.91379551, -0.92715994,\n",
              "        -0.90484569, -0.90818436, -0.88325413, -0.88524768, -0.88320326,\n",
              "        -0.86212687, -0.8626609 , -0.85882187, -0.85087284, -0.84515835,\n",
              "        -0.83603176, -0.84079274, -0.82638952, -0.83079371, -0.83208203,\n",
              "        -0.81597363, -0.81987137, -0.82028273, -0.81736635, -0.80456916,\n",
              "        -0.80778177, -0.8071358 , -0.80274122, -0.79471984, -0.77647055,\n",
              "        -0.7747107 , -0.77954793, -0.77201712, -0.77715994, -0.77980618,\n",
              "        -0.76815525, -0.77347623, -0.77598118, -0.77583274, -0.76292803,\n",
              "        -0.76825674, -0.77043638, -0.76956644, -0.76572715, -0.75618509,\n",
              "        -0.76131482, -0.76295353, -0.76114089, -0.75592147, -0.74734146],\n",
              "       [-1.26544951, -1.20148364, -1.07678447, -1.11008743, -1.0794873 ,\n",
              "        -1.04481394, -1.04749571, -1.01503633, -0.97401432, -0.97797552,\n",
              "        -0.96206357, -0.95311717, -0.94494104, -0.93616908, -0.92216271,\n",
              "        -0.92657374, -0.91767167, -0.90326519, -0.88389764, -0.87277966,\n",
              "        -0.86595922, -0.86595024, -0.85791159, -0.85811849, -0.85466876,\n",
              "        -0.84844182, -0.84865284, -0.84485699, -0.83730095, -0.83740083,\n",
              "        -0.83737596, -0.83299282, -0.82444653, -0.81195514, -0.79094785,\n",
              "        -0.79002471, -0.79296975, -0.78789053, -0.79137034, -0.79211294,\n",
              "        -0.78433109, -0.78819625, -0.78901097, -0.78696782, -0.77917142,\n",
              "        -0.78322886, -0.78390951, -0.78134156, -0.77563796, -0.772285  ,\n",
              "        -0.77630519, -0.77661386, -0.77327799, -0.76637441, -0.75598575],\n",
              "       [ 0.86554673,  0.89357239,  1.09914363,  0.78258063,  0.79878122,\n",
              "         0.93990033,  0.80045116,  0.93459078,  1.05668676,  0.67651527,\n",
              "         0.68764875,  0.8012992 ,  0.69013427,  0.8009429 ,  0.90667389,\n",
              "         0.68467425,  0.79166951,  0.89283215,  0.98585419,  0.55968474,\n",
              "         0.5684443 ,  0.66456056,  0.57131856,  0.66655179,  0.75972558,\n",
              "         0.56845191,  0.66202726,  0.75298615,  0.83966967,  0.56005916,\n",
              "         0.65121087,  0.73912961,  0.82199596,  0.89806256,  0.44114502,\n",
              "         0.44855713,  0.53098988,  0.45173534,  0.53431582,  0.61642373,\n",
              "         0.45063976,  0.53277501,  0.61411072,  0.69346369,  0.44529494,\n",
              "         0.526359  ,  0.60623382,  0.6835692 ,  0.75701341,  0.43580198,\n",
              "         0.51515579,  0.5928749 ,  0.66744993,  0.73737814,  0.80118751]])"
            ]
          },
          "metadata": {},
          "execution_count": 61
        }
      ]
    },
    {
      "cell_type": "code",
      "source": [
        "lr.fit(train_scaled, train_target)\n",
        "print(lr.score(train_poly, train_target))\n",
        "print(lr.score(test_poly, test_target))\n",
        "lr.coef_"
      ],
      "metadata": {
        "colab": {
          "base_uri": "https://localhost:8080/"
        },
        "id": "JHbJqu247xj5",
        "outputId": "eeaaa5c5-ba16-4a64-b7ee-c9685f1d0bf3"
      },
      "execution_count": null,
      "outputs": [
        {
          "output_type": "stream",
          "name": "stdout",
          "text": [
            "-2.5974067993492654e+24\n",
            "-2.6097052589734064e+24\n"
          ]
        },
        {
          "output_type": "execute_result",
          "data": {
            "text/plain": [
              "array([  -589630.5040284 ,     58882.34432801,    292479.57213859,\n",
              "         3614696.47945359,   2676387.94699227,  -4179338.71145696,\n",
              "         1913385.1339401 ,  -7462398.39295357,   4644311.56858537,\n",
              "         1112036.40310243, -36636084.4108739 ,   8265194.28843481,\n",
              "        10957185.77203952,  44560029.59493069, -18234640.4396522 ,\n",
              "       -10575138.76146999,   7800352.55389997, -11116646.20671695,\n",
              "         1508213.91432259,  -2366902.47593485,  32780599.62893171,\n",
              "        -7086928.94870479,   6162417.47231338, -21442493.36986389,\n",
              "          958974.60150224,  -6479999.56154162, -16087564.33686846,\n",
              "       -24612356.29665983,  26477275.89038515,  10193063.20609389,\n",
              "        -2161671.1841041 ,  -1494715.36796788,  18751463.7325785 ,\n",
              "       -11464734.56621294, -16778724.34630555,  21634520.14393105,\n",
              "        17961770.29319982, -15580796.05333004,  -3698271.64132283,\n",
              "         1658671.24819036, -22830889.426497  ,   4544534.087271  ,\n",
              "       -20028333.07735961,  -7658878.69689594,  12298552.84928155,\n",
              "        34365168.23984797,  14317535.98042717,  -3335164.1493559 ,\n",
              "         5353004.85802018,  -4052599.81715888,  -8063367.124465  ,\n",
              "       -10439619.85933025,  -4841213.99595653,   9446024.88087964,\n",
              "        -5007408.3549178 ])"
            ]
          },
          "metadata": {},
          "execution_count": 62
        }
      ]
    },
    {
      "cell_type": "markdown",
      "source": [
        "##릿지 회귀 Ridge\n",
        "######계수를 제곱한 값을 기준으로 규제\n",
        "######aplha=1.0 매개변수\n",
        "- 규제 강도를 지정\n",
        "- 규제 강도가 크면 계수 값은 작아져 과소적합을 유도하고, 규제 강도가 작으면 선형 회귀에 유사해져 과대적합이 발생"
      ],
      "metadata": {
        "id": "w7mKtR2xx4Rf"
      }
    },
    {
      "cell_type": "code",
      "source": [
        "from sklearn.linear_model import Ridge\n",
        "ridge = Ridge()\n",
        "ridge.fit(train_scaled, train_target)\n",
        "print(ridge.score(train_scaled, train_target))"
      ],
      "metadata": {
        "colab": {
          "base_uri": "https://localhost:8080/"
        },
        "id": "Rq8JKLoexqKH",
        "outputId": "2b941ec1-646c-4ab5-b3ba-b6e6006183cc"
      },
      "execution_count": null,
      "outputs": [
        {
          "output_type": "stream",
          "name": "stdout",
          "text": [
            "0.9896101671037343\n"
          ]
        }
      ]
    },
    {
      "cell_type": "code",
      "source": [
        "print(ridge.score(test_scaled, test_target))"
      ],
      "metadata": {
        "colab": {
          "base_uri": "https://localhost:8080/"
        },
        "id": "lB5hToLAyFGi",
        "outputId": "c4eb7bd3-b62c-4a1b-a82c-3246ceaf3e9f"
      },
      "execution_count": null,
      "outputs": [
        {
          "output_type": "stream",
          "name": "stdout",
          "text": [
            "0.9790693977615387\n"
          ]
        }
      ]
    },
    {
      "cell_type": "code",
      "source": [
        "ridge.coef_, ridge.intercept_"
      ],
      "metadata": {
        "colab": {
          "base_uri": "https://localhost:8080/"
        },
        "id": "gWo7Dwqb9VqN",
        "outputId": "d4229bfb-e4dd-4437-e449-6c21cf6496cb"
      },
      "execution_count": null,
      "outputs": [
        {
          "output_type": "execute_result",
          "data": {
            "text/plain": [
              "(array([18.75202605,  9.99048537,  9.64586193, 17.278557  , 14.42089598,\n",
              "        12.69251285, 12.34283964, 10.88252862, 12.55963482, 12.93825844,\n",
              "        12.67925897,  9.12136175, 12.49327194,  9.02641662,  8.39716922,\n",
              "        12.21409663,  8.99564455,  8.85968975, 11.68602892,  7.48294042,\n",
              "         8.98610839,  3.37199818, 10.27381252,  4.61786228,  1.60700275,\n",
              "        11.21975321,  5.66171476,  2.9808368 ,  3.17359806, 11.72544455,\n",
              "         6.40554378,  4.19129005,  5.06384222,  8.89201309,  1.89344091,\n",
              "         4.81186299, -2.91832747,  7.38733861, -0.51038117, -5.91335297,\n",
              "         9.5029666 ,  1.56464851, -3.66645267, -6.13031213, 11.06068777,\n",
              "         3.21356622, -1.71089861, -3.65107495, -2.63704498, 11.98418393,\n",
              "         4.3636902 , -0.11776857, -1.40420516,  0.45174316,  5.29453248]),\n",
              " 400.8333333333333)"
            ]
          },
          "metadata": {},
          "execution_count": 65
        }
      ]
    },
    {
      "cell_type": "code",
      "source": [
        "import matplotlib.pyplot as plt\n",
        "train_score = []\n",
        "test_score = []"
      ],
      "metadata": {
        "id": "5Ibp1DEPyIvk"
      },
      "execution_count": null,
      "outputs": []
    },
    {
      "cell_type": "code",
      "source": [
        "alpha_list = [0.001, 0.01, 0.1, 1, 10, 100]\n",
        "for alpha in alpha_list:\n",
        "  #릿지 모델을 만듭니다\n",
        "  ridge = Ridge(alpha=alpha)\n",
        "  #릿지 모델을 훈련합니다\n",
        "  ridge.fit(train_scaled, train_target)\n",
        "  #훈련 점수와 테스트 점수를 저장합니다\n",
        "  train_score.append(ridge.score(train_scaled, train_target))\n",
        "  test_score.append(ridge.score(test_scaled, test_target))"
      ],
      "metadata": {
        "id": "n4KeeKGAyPdx"
      },
      "execution_count": null,
      "outputs": []
    },
    {
      "cell_type": "code",
      "source": [
        "plt.plot(alpha_list, train_score)\n",
        "plt.plot(alpha_list, test_score)\n",
        "plt.xlabel('alpha')\n",
        "plt.ylabel('R^2')\n",
        "plt.show()"
      ],
      "metadata": {
        "colab": {
          "base_uri": "https://localhost:8080/",
          "height": 449
        },
        "id": "IqrJ6MWh95xl",
        "outputId": "8744b172-7261-411b-e439-9c613108f81e"
      },
      "execution_count": null,
      "outputs": [
        {
          "output_type": "display_data",
          "data": {
            "text/plain": [
              "<Figure size 640x480 with 1 Axes>"
            ],
            "image/png": "[encoded data removed]"
          },
          "metadata": {}
        }
      ]
    },
    {
      "cell_type": "code",
      "source": [
        "plt.plot(np.log10(alpha_list), train_score)\n",
        "plt.plot(np.log10(alpha_list), test_score)\n",
        "plt.xlabel('alpha')\n",
        "plt.ylabel('R^2')\n",
        "plt.show()"
      ],
      "metadata": {
        "colab": {
          "base_uri": "https://localhost:8080/",
          "height": 449
        },
        "id": "DokmhKHgysQd",
        "outputId": "407cdbe4-890c-4ba2-de6a-53a1d2737490"
      },
      "execution_count": null,
      "outputs": [
        {
          "output_type": "display_data",
          "data": {
            "text/plain": [
              "<Figure size 640x480 with 1 Axes>"
            ],
            "image/png": "[encoded data removed]"
          },
          "metadata": {}
        }
      ]
    },
    {
      "cell_type": "code",
      "source": [
        "ridge = Ridge(alpha=0.1)\n",
        "ridge.fit(train_scaled, train_target)\n",
        "print(ridge.score(train_scaled, train_target))\n",
        "print(ridge.score(test_scaled, test_target))"
      ],
      "metadata": {
        "colab": {
          "base_uri": "https://localhost:8080/"
        },
        "id": "tGUzYb4SzXEJ",
        "outputId": "5875a04f-3164-41ad-f087-3feb1ba3961d"
      },
      "execution_count": null,
      "outputs": [
        {
          "output_type": "stream",
          "name": "stdout",
          "text": [
            "0.9903815817570367\n",
            "0.9827976465386928\n"
          ]
        }
      ]
    },
    {
      "cell_type": "markdown",
      "source": [
        "##라쏘 회귀\n",
        "######계수의 절댓값을 기준으로 규제"
      ],
      "metadata": {
        "id": "PVpx0JTLztOs"
      }
    },
    {
      "cell_type": "code",
      "source": [
        "from sklearn.linear_model import Lasso\n",
        "lasso = Lasso()\n",
        "lasso.fit(train_scaled, train_target)\n",
        "print(lasso.score(train_scaled, train_target))"
      ],
      "metadata": {
        "colab": {
          "base_uri": "https://localhost:8080/"
        },
        "id": "GoZDuJmHzvoU",
        "outputId": "ce163303-0faf-4b67-db97-ec0bdf3e08a6"
      },
      "execution_count": null,
      "outputs": [
        {
          "output_type": "stream",
          "name": "stdout",
          "text": [
            "0.989789897208096\n"
          ]
        }
      ]
    },
    {
      "cell_type": "code",
      "source": [
        "print(lasso.score(test_scaled, test_target))"
      ],
      "metadata": {
        "colab": {
          "base_uri": "https://localhost:8080/"
        },
        "id": "NTIp_Xc60Aby",
        "outputId": "908a5a6a-0db9-47a7-f6af-11fab0391825"
      },
      "execution_count": null,
      "outputs": [
        {
          "output_type": "stream",
          "name": "stdout",
          "text": [
            "0.9800593698421883\n"
          ]
        }
      ]
    },
    {
      "cell_type": "code",
      "source": [
        "lasso.coef_, lasso.intercept_"
      ],
      "metadata": {
        "colab": {
          "base_uri": "https://localhost:8080/"
        },
        "id": "gOBc9HD1_UuP",
        "outputId": "1eb536a4-55d9-4973-98a7-3281c9161e41"
      },
      "execution_count": null,
      "outputs": [
        {
          "output_type": "execute_result",
          "data": {
            "text/plain": [
              "(array([ 0.        ,  0.        ,  0.        , 95.61184844, 11.60230215,\n",
              "         0.        , 10.5804005 ,  0.        , 31.51508869,  0.        ,\n",
              "        22.30028081,  0.        , 29.10414951,  0.        ,  0.        ,\n",
              "        18.50441438,  0.        ,  0.        , 41.93702532,  0.        ,\n",
              "         0.        ,  0.        ,  0.        ,  0.        ,  0.        ,\n",
              "         5.74835225,  0.        ,  0.        ,  0.        , 20.53363452,\n",
              "         0.        ,  0.        ,  0.        ,  8.8783085 ,  0.        ,\n",
              "         0.        ,  0.        ,  0.        ,  0.        ,  0.        ,\n",
              "         0.        ,  0.        ,  0.        ,  0.        , 35.3124872 ,\n",
              "         0.        ,  0.        ,  0.        ,  0.        , 21.35881131,\n",
              "         0.        ,  0.        ,  0.        ,  0.        ,  0.        ]),\n",
              " 400.8333333333333)"
            ]
          },
          "metadata": {},
          "execution_count": 73
        }
      ]
    },
    {
      "cell_type": "code",
      "source": [
        "train_score = []\n",
        "test_score = []\n",
        "alpha_list = [0.001, 0.01, 0.1, 1, 10, 100]\n",
        "for alpha in alpha_list:\n",
        "  #라쏘 모델을 만듭니다\n",
        "  lasso = Lasso(alpha=alpha, max_iter=10000)\n",
        "  #라쏘 모델을 훈련합니다\n",
        "  lasso.fit(train_scaled, train_target)\n",
        "  #훈련 점수와 테스트 점수를 저장합니다\n",
        "  train_score.append(lasso.score(train_scaled, train_target))\n",
        "  test_score.append(lasso.score(test_scaled, test_target))"
      ],
      "metadata": {
        "colab": {
          "base_uri": "https://localhost:8080/"
        },
        "id": "PvcyW8Iv0EdS",
        "outputId": "14c32049-0a8b-46b5-dd15-4157252405c5"
      },
      "execution_count": null,
      "outputs": [
        {
          "output_type": "stream",
          "name": "stderr",
          "text": [
            "/usr/local/lib/python3.10/dist-packages/sklearn/linear_model/_coordinate_descent.py:631: ConvergenceWarning: Objective did not converge. You might want to increase the number of iterations, check the scale of the features or consider increasing regularisation. Duality gap: 1.878e+04, tolerance: 5.183e+02\n",
            "  model = cd_fast.enet_coordinate_descent(\n",
            "/usr/local/lib/python3.10/dist-packages/sklearn/linear_model/_coordinate_descent.py:631: ConvergenceWarning: Objective did not converge. You might want to increase the number of iterations, check the scale of the features or consider increasing regularisation. Duality gap: 1.297e+04, tolerance: 5.183e+02\n",
            "  model = cd_fast.enet_coordinate_descent(\n"
          ]
        }
      ]
    },
    {
      "cell_type": "code",
      "source": [
        "plt.plot(np.log10(alpha_list), train_score)\n",
        "plt.plot(np.log10(alpha_list), test_score)\n",
        "plt.xlabel('alpha')\n",
        "plt.ylabel('R^2')\n",
        "plt.show()"
      ],
      "metadata": {
        "colab": {
          "base_uri": "https://localhost:8080/",
          "height": 449
        },
        "id": "SYliTwXw05_u",
        "outputId": "f8d5c88a-f406-4976-9bb8-afd07405f036"
      },
      "execution_count": null,
      "outputs": [
        {
          "output_type": "display_data",
          "data": {
            "text/plain": [
              "<Figure size 640x480 with 1 Axes>"
            ],
            "image/png": "[encoded data removed]"
          },
          "metadata": {}
        }
      ]
    },
    {
      "cell_type": "code",
      "source": [
        "lasso = Lasso(alpha=10)\n",
        "lasso.fit(train_scaled, train_target)\n",
        "print(lasso.score(train_scaled, train_target))\n",
        "print(lasso.score(test_scaled, test_target))"
      ],
      "metadata": {
        "colab": {
          "base_uri": "https://localhost:8080/"
        },
        "id": "3T94LkHs1BWW",
        "outputId": "f184d68a-e1bc-42c0-c8a4-21ea23b7a059"
      },
      "execution_count": null,
      "outputs": [
        {
          "output_type": "stream",
          "name": "stdout",
          "text": [
            "0.9888067471131867\n",
            "0.9824470598706695\n"
          ]
        }
      ]
    },
    {
      "cell_type": "code",
      "source": [
        "print(np.sum(lasso.coef_ == 0))"
      ],
      "metadata": {
        "colab": {
          "base_uri": "https://localhost:8080/"
        },
        "id": "emAyord51LsC",
        "outputId": "bda6ab97-30d1-4877-fad7-fc91f2f43a65"
      },
      "execution_count": null,
      "outputs": [
        {
          "output_type": "stream",
          "name": "stdout",
          "text": [
            "40\n"
          ]
        }
      ]
    }
  ]
}